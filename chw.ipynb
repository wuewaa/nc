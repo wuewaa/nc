{
 "cells": [
  {
   "cell_type": "code",
   "execution_count": 3,
   "metadata": {},
   "outputs": [
    {
     "name": "stdout",
     "output_type": "stream",
     "text": [
      "Variable: date_written, Long Name: N/A\n",
      "Variable: time_written, Long Name: N/A\n"
     ]
    }
   ],
   "source": [
    "import netCDF4 as nc\n",
    "\n",
    "nc_file = nc.Dataset('F:\\hwchen\\FC5_LUCC_dyn_exp1.clm2.h0.1960-01-01-00000.nc')\n",
    "variables = nc_file.variables\n",
    "keyword = 'roughness'  \n",
    "for var in variables:\n",
    "    if hasattr(variables[var], 'long_name'):\n",
    "        long_name = variables[var].long_name\n",
    "        if keyword.lower() in long_name.lower(): \n",
    "            print(f\"Variable: {var}, Long Name: {long_name}\")\n",
    "    else:\n",
    "        print(f\"Variable: {var}, Long Name: N/A\")\n",
    "nc_file.close()"
   ]
  }
 ],
 "metadata": {
  "kernelspec": {
   "display_name": "chw_3.8",
   "language": "python",
   "name": "python3"
  },
  "language_info": {
   "codemirror_mode": {
    "name": "ipython",
    "version": 3
   },
   "file_extension": ".py",
   "mimetype": "text/x-python",
   "name": "python",
   "nbconvert_exporter": "python",
   "pygments_lexer": "ipython3",
   "version": "3.9.7"
  }
 },
 "nbformat": 4,
 "nbformat_minor": 2
}
